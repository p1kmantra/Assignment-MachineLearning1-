{
 "cells": [
  {
   "cell_type": "markdown",
   "id": "f9666b34-1064-4b90-a4f0-48477296071d",
   "metadata": {},
   "source": [
    "Q1. Explain the followining with an example"
   ]
  },
  {
   "cell_type": "markdown",
   "id": "423cb312-9563-4401-9ff0-54df8f9256bc",
   "metadata": {},
   "source": [
    "a).Artificial Inrtelliigence.\n",
    "b).Machine Learning.\n",
    "c).Deep Learning."
   ]
  },
  {
   "cell_type": "markdown",
   "id": "5b5ff7f4-0f91-4c3b-ac01-132ce7bf9403",
   "metadata": {},
   "source": [
    "Ans. Certainly! Here are explanatios along with examples for each:"
   ]
  },
  {
   "cell_type": "markdown",
   "id": "354c6047-fafe-4867-ab0e-cbb3225d401b",
   "metadata": {},
   "source": [
    "(a).Artificial Intelligence(AI): Artificial Intelligence refers to the simulation of human intelligence in machine that are programmed to think and learn like humans .It encompasses a wide rage of techniques and approaches to enable machines to perform tasks that typically require human intelligence."
   ]
  },
  {
   "cell_type": "markdown",
   "id": "b2a3b65b-0467-4882-972e-620bca332e1d",
   "metadata": {},
   "source": [
    "eg: A common example of AI is a virtual personal assistance like Apple's Sri or Amazone's Alexa. These system can understand natural laguage ,respond to questions and perform tasks like setting reminders or providing information."
   ]
  },
  {
   "cell_type": "markdown",
   "id": "26c54fdb-918d-4785-9015-6d927c21e204",
   "metadata": {},
   "source": [
    "(b).Machine Learning(ML): Machine Learning is a subset of AI that involves the development of algorithms that allow computers to learn and make predictions or decisions without being explicitly programmed .It relies on data to identify patterns and improve performance over time."
   ]
  },
  {
   "cell_type": "markdown",
   "id": "be95995f-ed3b-4fc0-b105-1660b32d5e85",
   "metadata": {},
   "source": [
    "eg: Recomend system like product recomendation, movie recomendation on Netflix etc."
   ]
  },
  {
   "cell_type": "markdown",
   "id": "4f3c4985-ebbc-413d-849a-69b57b361c6d",
   "metadata": {},
   "source": [
    "(c).Deep Learning: Deep learning is a specialized form of machine learning thta uses neural networks with multiple layers .To process data and extract relevent features .It's particularly effective for tasks involving large amounts of data,such as image and speech recognition."
   ]
  },
  {
   "cell_type": "markdown",
   "id": "6eee93eb-95da-4b49-be8e-a8f7b6abd435",
   "metadata": {},
   "source": [
    "eg: Object detection, Chat Bots"
   ]
  },
  {
   "cell_type": "markdown",
   "id": "a638979f-91b4-4ba1-8183-b40cf8a44e82",
   "metadata": {},
   "source": [
    "In summary ,AI is broad field aiming to create machines taht can mimic human intelligence ,while Machine learning is a subset of AI focussed on algorithms that learn from data .Deep learning is a specific approach within machine learning that utilizes deep neural networks for tasks that require processing large amount of complex data."
   ]
  },
  {
   "cell_type": "code",
   "execution_count": null,
   "id": "98004be9-07a0-4255-848e-30c63746fcc8",
   "metadata": {},
   "outputs": [],
   "source": []
  },
  {
   "cell_type": "markdown",
   "id": "7c366ae9-55ff-400c-b286-e8b3552abe2e",
   "metadata": {},
   "source": [
    "Q.2..What is supervised learning ? list some examples of supervised learning ."
   ]
  },
  {
   "cell_type": "markdown",
   "id": "3a91c54a-701f-491d-9369-db550ea0a812",
   "metadata": {},
   "source": [
    "Ans. Supervised Leaerning is a type of machine learning in which the model is trained on a labeled data sets .This means that for each input data point, taghe desired output is provided. The algorithms learns to map the input data to currect out by iteratively adjusting its parametrs during training."
   ]
  },
  {
   "cell_type": "markdown",
   "id": "12149a98-2ac4-4b68-9f2d-cd1dbbe05622",
   "metadata": {},
   "source": [
    "Here is some example for supervised learning:"
   ]
  },
  {
   "cell_type": "markdown",
   "id": "b592591d-56fa-4d8c-a7bf-d92ac5eb7646",
   "metadata": {},
   "source": [
    "(a).Lineaer Regression: "
   ]
  },
  {
   "cell_type": "markdown",
   "id": "28d8145d-28fc-415d-b0b8-212e194248ce",
   "metadata": {},
   "source": [
    "eg:Predicting house prices based on features like squre footage, number of bedrooms, etc"
   ]
  },
  {
   "cell_type": "markdown",
   "id": "428c64e5-30b6-4b1b-9fca-23fc22420e44",
   "metadata": {},
   "source": [
    "(b).Classification:"
   ]
  },
  {
   "cell_type": "markdown",
   "id": "65e2ffda-ef6a-49fa-a4aa-c5d68992051d",
   "metadata": {},
   "source": [
    "eg: Spam enail detection where enail are classified as either spam or not spam based on features like words used ,sender's address, etc."
   ]
  },
  {
   "cell_type": "markdown",
   "id": "59981b9b-9936-40d7-898a-eebf07fcd0fd",
   "metadata": {},
   "source": [
    "(c).Logistic Regression: "
   ]
  },
  {
   "cell_type": "markdown",
   "id": "88b3eda8-648e-4f5e-a083-d6bc0bc22eaa",
   "metadata": {},
   "source": [
    "eg: Medical Diagnosis, where the model predicts whether a patient has a particular condition or or not based on various test results."
   ]
  },
  {
   "cell_type": "markdown",
   "id": "8571d316-a2a4-4db2-a7ef-feca468381c6",
   "metadata": {},
   "source": [
    "(d).Support Vector Machines(SVM):"
   ]
  },
  {
   "cell_type": "markdown",
   "id": "023da05a-fefc-4f28-94f4-c546a93599d5",
   "metadata": {},
   "source": [
    "eg: Handwritten digit recognition, wheer the algorithm learns to classify digits(0-9) based on pixel values"
   ]
  },
  {
   "cell_type": "markdown",
   "id": "1f7e221c-5118-4fab-afdf-c0a43cc412ba",
   "metadata": {},
   "source": [
    "(e).Decision Tree:"
   ]
  },
  {
   "cell_type": "markdown",
   "id": "2ff390d0-98ee-4f92-a7f0-740012d43ee9",
   "metadata": {},
   "source": [
    "eg: Predicting whether a passenger on hte Titanic survived or not based on features like age class ,etc."
   ]
  },
  {
   "cell_type": "markdown",
   "id": "57488dca-4422-4ea7-b5e9-ce90bb0cd54d",
   "metadata": {},
   "source": [
    "In supervised learning ,the goal is to minimize the difference b/w the predicted output and the actual output for each training example .This is typically done using various optimization techniques .Once tarined ,the model can make predictions on new,unseen data."
   ]
  },
  {
   "cell_type": "code",
   "execution_count": null,
   "id": "27b576d3-3395-4c13-b620-26246ebebf79",
   "metadata": {},
   "outputs": [],
   "source": []
  },
  {
   "cell_type": "markdown",
   "id": "c73e49c8-490a-4d4f-90b5-96bd37a487cf",
   "metadata": {},
   "source": [
    "Q3. What is unsupervised learning ? List some example of unsupervised learning."
   ]
  },
  {
   "cell_type": "markdown",
   "id": "34d5d3e3-f1ce-47bc-9d47-e1fb7458beeb",
   "metadata": {},
   "source": [
    "Ans.Unsupervised learning is a type of machine learning where the model is trained on an unlabeled dataset.In this case ,the algorithm tries to find patterns ,relationships, or stuctures in the data without any explicit guidence about what those patterns should be."
   ]
  },
  {
   "cell_type": "markdown",
   "id": "07817980-482c-48f1-98a6-b749ad2abca9",
   "metadata": {},
   "source": [
    "Examples of unsupervised learning are:"
   ]
  },
  {
   "cell_type": "markdown",
   "id": "bbcb8282-3f17-4a60-8226-b21bb7121e94",
   "metadata": {},
   "source": [
    "(a):Clustering:"
   ]
  },
  {
   "cell_type": "markdown",
   "id": "83032760-c53f-4f8f-a147-1e439b071ae8",
   "metadata": {},
   "source": [
    "example: K-means clustering, where data points are grouped into clusters based on similarity."
   ]
  },
  {
   "cell_type": "markdown",
   "id": "df289b6a-bf88-4def-97ef-439b25d3cd7c",
   "metadata": {},
   "source": [
    "(b).Dimensionality Reduction:"
   ]
  },
  {
   "cell_type": "markdown",
   "id": "544d9d07-e4d2-486b-9eac-59ca4395d525",
   "metadata": {},
   "source": [
    "eg: Principal Component Analysis (PCA) ,which reduces the number of features while preserving as much information as possible."
   ]
  },
  {
   "cell_type": "markdown",
   "id": "e81ba9a7-01a3-4e19-9c9c-816a40b044f7",
   "metadata": {},
   "source": [
    "(c).Association:"
   ]
  },
  {
   "cell_type": "markdown",
   "id": "e5b436ef-6dc0-4e0b-ab07-8528611f893b",
   "metadata": {},
   "source": [
    "eg: Market Basket Analysis, where the algorithm identifies which products are frequently bought together in a tarnsaction."
   ]
  },
  {
   "cell_type": "markdown",
   "id": "06b2a550-07e4-4f19-9a1b-06ffdda07c27",
   "metadata": {},
   "source": [
    "(d).Generative Adversial Networks(GANs):"
   ]
  },
  {
   "cell_type": "markdown",
   "id": "0c4e6537-9880-46b0-8011-802ec74d4231",
   "metadata": {},
   "source": [
    "eg: Generating realistic images ,where a generator network creates images and a discriminator network tries to distinguish between real and generated images"
   ]
  },
  {
   "cell_type": "markdown",
   "id": "9af60e8a-f33d-4cb3-b39d-2305423adecf",
   "metadata": {},
   "source": [
    "(e).Self-Organizing Maps(SOM):"
   ]
  },
  {
   "cell_type": "markdown",
   "id": "521bc388-8c9d-4045-b0b2-f568896a7038",
   "metadata": {},
   "source": [
    "eg: Visualizing High-dimensional data, such as representing complex data in a lower dimnentional space."
   ]
  },
  {
   "cell_type": "markdown",
   "id": "d40f01b8-457c-4496-811e-2b9d47a31a31",
   "metadata": {},
   "source": [
    "In unsupervised learning ,the goal is often to discover underlying structures or patterns within the data .This can be useful for tasks like exploratory data analysis ,data proccessing ,and generating insights from large daatsets where labeled information may not be available or is costly to obtain."
   ]
  },
  {
   "cell_type": "code",
   "execution_count": null,
   "id": "1b824d7c-6e27-4b61-b9f3-2053dd7a9fdc",
   "metadata": {},
   "outputs": [],
   "source": []
  },
  {
   "cell_type": "markdown",
   "id": "c0a862e0-fcc9-4cfc-8023-bb51f43602fd",
   "metadata": {},
   "source": [
    "Q4- What is the difference between AI, ML, DL, and DS ?"
   ]
  },
  {
   "cell_type": "markdown",
   "id": "1265900a-ba64-4419-ac7b-32f47063962e",
   "metadata": {},
   "source": [
    "Ans. Certainly! Here's the brief explanation of the difference between AI,ML,DL, and DS:"
   ]
  },
  {
   "cell_type": "markdown",
   "id": "3da255eb-290b-4d51-b1c8-be4e837a5e7b",
   "metadata": {},
   "source": [
    "(a).Artificial Intelligence(AI): AI refers to the development of computer system that can perform tasks that typically require human intelligence .It aims to simulate human cognitive functions like learning ,reasoning ,problem-solving and perception."
   ]
  },
  {
   "cell_type": "markdown",
   "id": "c19f6ab2-554b-4b95-809e-292fa5ddce16",
   "metadata": {},
   "source": [
    "eg: Virtual Personal Assistance like Sri or Alexa ,which can understand and respond to natural language."
   ]
  },
  {
   "cell_type": "markdown",
   "id": "eefc3739-b548-468e-b0ea-1fb9367babeb",
   "metadata": {},
   "source": [
    "(b).Machine Learning (ML): Machine learning is a subset of AI that involves the develoopment of algorithms that allow computers to learn and make predictions or decisions withouit being explicitly programmed .It relies on data to identify patterns and improve performance over time."
   ]
  },
  {
   "cell_type": "markdown",
   "id": "2d3b2384-4cb3-44c1-9b4b-8a1ad371adb3",
   "metadata": {},
   "source": [
    "eg: Email spam filtering ,where the algorithm learns to classify email as spam or not based on labeled data."
   ]
  },
  {
   "cell_type": "markdown",
   "id": "00ee6231-a13d-414b-a26b-e713f1391c22",
   "metadata": {},
   "source": [
    "(c).Deep learning(DL): It is a specialized form of machine learning that uses neural networks with multiple layers to process data and extract relevant features .It particularly effective for tasks involving large amounts of data ,such as image and speech recognition."
   ]
  },
  {
   "cell_type": "markdown",
   "id": "0173212f-350d-4881-8108-56afb7dccc89",
   "metadata": {},
   "source": [
    "eg: Image recognition, where a deep mlearning model is trained to recognize objects in images ."
   ]
  },
  {
   "cell_type": "markdown",
   "id": "d0f3ce48-b945-48d9-8545-bb52aaa8f233",
   "metadata": {},
   "source": [
    "(d).Data Science(DS): It is an interdisciplinary field that combines domain expertise,programming skills and statistical knowledge to extract insights and knowledge from data .It involves processes like data collection ,cleaning ,analysis,and interpretation tominform decision-making."
   ]
  },
  {
   "cell_type": "markdown",
   "id": "5e524c3f-c212-4ef4-ac42-c60d49a6a731",
   "metadata": {},
   "source": [
    "eg: Analyzing customer behavior data to make recommendatios for a marketing campaign."
   ]
  },
  {
   "cell_type": "markdown",
   "id": "f1c0abfe-4854-46be-bf0c-cdf6386f351a",
   "metadata": {},
   "source": [
    "Innsummary ,AI is the overarching field focused on creating intelligent machines .Machine learning is the subset of AI that focused on algorithms learning from data .Deep learning is a specialized form of machine learning usingb deep neural networks .Data science is a broader field that encompasses the processof extracting insights and knowledge from data to support decision making."
   ]
  },
  {
   "cell_type": "code",
   "execution_count": null,
   "id": "7d0ca0eb-22e5-4450-bf82-e48466fe9b45",
   "metadata": {},
   "outputs": [],
   "source": []
  },
  {
   "cell_type": "markdown",
   "id": "e3b7ac24-994f-4bb3-8a1b-d8943492fdbd",
   "metadata": {},
   "source": [
    "Q5- What are the main differences between supervised, unsupervised, and semi-supervised learning ?"
   ]
  },
  {
   "cell_type": "markdown",
   "id": "744d87f7-c2b1-464b-b5f8-e9630aec9159",
   "metadata": {},
   "source": [
    "Ans. Here are the main differences b/w supervised ,unsupervised and semi-supervised learning:"
   ]
  },
  {
   "cell_type": "markdown",
   "id": "bd1e5443-1503-4a77-9acd-566a13db8191",
   "metadata": {},
   "source": [
    "(a).Supervised learning: It involves training a model on a labeled datasets, where each data point has both input features and corresponding target labels."
   ]
  },
  {
   "cell_type": "markdown",
   "id": "14b55c7a-b1d8-4e39-a8ba-a9c4c737c89f",
   "metadata": {},
   "source": [
    "Objective: The goal is to learn output data to output labels ,minimizing the difference between predicted and actual values.eg: Predicting house prices based on features like squre footage,with labeled data containing past prices."
   ]
  },
  {
   "cell_type": "markdown",
   "id": "7af0c701-f9ad-46f0-b390-da420aba2d5e",
   "metadata": {},
   "source": [
    "(b).Unsupervised Learning:"
   ]
  },
  {
   "cell_type": "markdown",
   "id": "b74b8e5f-b9c2-46f8-a92b-929e43d2f165",
   "metadata": {},
   "source": [
    "training Data: It involves taring a model on an unlabeled data set,meaning there are no explicit target labelels provided."
   ]
  },
  {
   "cell_type": "markdown",
   "id": "f93de8fc-b23e-4527-90b3-c5df78d0c100",
   "metadata": {},
   "source": [
    "Objective: The algorithm tries to find patterns ,relationships, or structures in the data without any guidance about what those patterns should be. eg: Clustering similar customerbehaviour without knowing specific categories in advance."
   ]
  },
  {
   "cell_type": "markdown",
   "id": "9cb7028b-efa6-4398-84b0-e8818fa20700",
   "metadata": {},
   "source": [
    "(c).Semi-Supervised learning: "
   ]
  },
  {
   "cell_type": "markdown",
   "id": "a86baac6-8d9d-41b4-9eef-3bb8d42d0d6e",
   "metadata": {},
   "source": [
    "Training Data: It combines element of both supervised and unsupervised learning .A portion of data is labeled and a portion is unlabeled ."
   ]
  },
  {
   "cell_type": "markdown",
   "id": "2a8da77b-c395-4d8c-b100-a5a7acb368c7",
   "metadata": {},
   "source": [
    "Objective: The model leverages the labeled data to learn from explicit examples and it also uses the unlabeled data to discover underlying patterns or structures.eg: training a sentiment analysis model with some labeled reviews (positive/negative sentiment) and larger set of unlabeled reviews."
   ]
  },
  {
   "cell_type": "markdown",
   "id": "7d73749e-b7c2-4acc-a0f5-fe238377bbb8",
   "metadata": {},
   "source": [
    "In summary ,the main differences lie in the type of data used for tarining (labeled or unlabeled ) and the goals of the learning process (explicity predicting outputs ,finding patterns or a combibation of both )."
   ]
  },
  {
   "cell_type": "code",
   "execution_count": null,
   "id": "e5131690-b24e-447c-92c7-15719d362adb",
   "metadata": {},
   "outputs": [],
   "source": []
  },
  {
   "cell_type": "markdown",
   "id": "83bff3a1-b926-4b4f-bc29-2618e8f8d57a",
   "metadata": {},
   "source": [
    "Q6- What is train, test and validation split? Explain the importance of each term."
   ]
  },
  {
   "cell_type": "markdown",
   "id": "26c3e048-927e-4ab9-9d64-09556161dc42",
   "metadata": {},
   "source": [
    "Ans.When training machine learning models ,it's crucial to assess their performance on data they haven't seen beforwe. This is where the concepts of train,test and validation splits come into play:"
   ]
  },
  {
   "cell_type": "markdown",
   "id": "72ee81bf-0557-4216-86a4-633daddf63ba",
   "metadata": {},
   "source": [
    "(a).Training Data: This is the portion of the dataset that is used to train the model.It contains both input features and their corresponding target labels."
   ]
  },
  {
   "cell_type": "markdown",
   "id": "69f3645e-ebea-4769-8623-ca2e0ca17398",
   "metadata": {},
   "source": [
    "Importance: The training data is used by the algorithm to learn the patterns and relationship in the data.It's crucial for the model to learn from this data to make accurate predictions."
   ]
  },
  {
   "cell_type": "markdown",
   "id": "3812506b-0d56-4657-9024-209a81914e9e",
   "metadata": {},
   "source": [
    "(b).Testing Data(Test Set): This is a seperate portion of the dataset that the model has never seen during tarining .It also contains input features and target labels."
   ]
  },
  {
   "cell_type": "markdown",
   "id": "bcbe4c82-0a73-4275-afaf-481cb775d29e",
   "metadata": {},
   "source": [
    "Importace: The testying data is crucial for evaluating the model's performance .By using data it hasn't seen before ,we can assess how well the model generalizes to new,unseen examples."
   ]
  },
  {
   "cell_type": "markdown",
   "id": "b002f0b0-142a-4813-8ae2-0c2446d5fd15",
   "metadata": {},
   "source": [
    "(c).Validatio Data(validation set): In addition to the training and testing sets, sometimes there's third split called the validation set .This used during the model tuning process (eg.,hyperparameter tuning)."
   ]
  },
  {
   "cell_type": "markdown",
   "id": "847c49c8-478f-4db6-809d-51a56f3ca393",
   "metadata": {},
   "source": [
    "Importance: The validation set helps in selecting the best-performing model by providing an unbiased evalution metric.It helps prevent overfitting ,where a model performs well on training data but poorly on new data."
   ]
  },
  {
   "cell_type": "markdown",
   "id": "dcab9a13-d428-4fcb-8ace-42391aaf8dbf",
   "metadata": {},
   "source": [
    "  Impotance of Each Term:"
   ]
  },
  {
   "cell_type": "markdown",
   "id": "42fbd1f4-c63e-45bf-95fb-91f91e3e107f",
   "metadata": {},
   "source": [
    "(a).Training Data:"
   ]
  },
  {
   "cell_type": "markdown",
   "id": "7e5b694c-4c6f-434c-8038-0b7c35c8a8d9",
   "metadata": {},
   "source": [
    "Purpose: The main purpose of the training data is to teach the model how to make predictions or classifications based on the input features .It's the foundation on which the model learns the underlying patterns in the data."
   ]
  },
  {
   "cell_type": "markdown",
   "id": "92eaeedc-ce14-4fc7-bcc4-e7642144c63e",
   "metadata": {},
   "source": [
    "Impotance: Without adequate and representative training data, the model may not learn the true underlying relationships and might perform on unseen data."
   ]
  },
  {
   "cell_type": "markdown",
   "id": "918b4f2e-4e87-4309-9b15-33f28f8e851c",
   "metadata": {},
   "source": [
    "(b).Testing Data:"
   ]
  },
  {
   "cell_type": "markdown",
   "id": "cc710de5-6281-405a-8cee-236c5eaecef9",
   "metadata": {},
   "source": [
    "Purpose: The testing data is held out and not used during the training process .It serves as a completely inedpendent evalution to estimate the model's performance on new unseen data ."
   ]
  },
  {
   "cell_type": "markdown",
   "id": "9cbbc3fd-5fdc-45d9-9465-88d9ba3135b2",
   "metadata": {},
   "source": [
    "Importance: Witout a test set ,we might not have an accurate assessment of how well the model will perform in real-world scenarios .It helps us avoid overfitting and provides a reliable estimate of model performnace."
   ]
  },
  {
   "cell_type": "markdown",
   "id": "da02ea66-3054-4075-8648-ed205b4f537c",
   "metadata": {},
   "source": [
    "(c).Validation Data : "
   ]
  },
  {
   "cell_type": "markdown",
   "id": "747b0e19-5276-4dd8-837d-cd66349c25ea",
   "metadata": {},
   "source": [
    "Purpose: The validation set is used to fine-tune the model ,especially in cases where hyperparameters need to be chosen or when model selection is involved ."
   ]
  },
  {
   "cell_type": "markdown",
   "id": "ee6c643f-b42c-4513-ba97-54be06215650",
   "metadata": {},
   "source": [
    "Importance: It ensures that the model's performance is assessed on data it hasn't seen before,which is crucial for selecting the best model configuration and avoiding overfitting to the training data."
   ]
  },
  {
   "cell_type": "markdown",
   "id": "70353f7f-b9ed-4d2c-88d5-913d2d1e05cb",
   "metadata": {},
   "source": [
    "In summary ,the train-test-validation split is a crical practice in machine learning to ensure that the models are robust ,generalizable and perform well on new unseen data. It helps in building models taht can make accurate prediction in real world scenarios."
   ]
  },
  {
   "cell_type": "code",
   "execution_count": null,
   "id": "db31125b-80d5-4f88-9a5b-8f60000ca7c2",
   "metadata": {},
   "outputs": [],
   "source": []
  },
  {
   "cell_type": "markdown",
   "id": "b81b75e6-261a-4808-a882-ba9cddce5e3d",
   "metadata": {},
   "source": [
    "Q7- How can unsupervised learning be used in anomaly detection ?"
   ]
  },
  {
   "cell_type": "markdown",
   "id": "06e7ab91-c358-4aba-8385-89dd76287efb",
   "metadata": {},
   "source": [
    "Ans.Unsupervised learning is particularly well-suuited for anomaly detection because it doesn't rely on labeled data to identify outliers or amnomalies .Hrer's how unsuppervised learning can be used for anomaly datection ."
   ]
  },
  {
   "cell_type": "markdown",
   "id": "620bf13c-d426-4e35-a379-0a9108b1a886",
   "metadata": {},
   "source": [
    "Clustering:"
   ]
  },
  {
   "cell_type": "markdown",
   "id": "19f6692e-ddc0-4a9b-8164-c491ef499229",
   "metadata": {},
   "source": [
    "Unsupervised clustring techniques like K-means can be employed to group similar data points together .Anomalies are often thosed points that don't fit well into any cluster .They can be identified by measuring their distance to yhe nearest cluster centrios."
   ]
  },
  {
   "cell_type": "markdown",
   "id": "f964289e-ce4c-4278-8629-4f046c7db6a1",
   "metadata": {},
   "source": [
    "Density Estimation:"
   ]
  },
  {
   "cell_type": "markdown",
   "id": "c2acaf6c-ba79-4130-8d30-c35e6381c7b6",
   "metadata": {},
   "source": [
    "Techniques like Kernal Density Estimation(KDE) estimate the probability density function of the data. Anomalies are points that have very low probabilty density ,indicating they are located in regions of low data density."
   ]
  },
  {
   "cell_type": "markdown",
   "id": "ffa31c5a-0f0f-46df-b3a2-c3fc4936453f",
   "metadata": {},
   "source": [
    "One-Class SVM: "
   ]
  },
  {
   "cell_type": "markdown",
   "id": "120334f8-8648-468b-a9ec-1f11b1f18bc9",
   "metadata": {},
   "source": [
    "One-Class Support Vector Machines are rtained on a single class to identify regions in feature space that contain a high percentage of the data .Points lying outside these regions are considered anomalies."
   ]
  },
  {
   "cell_type": "markdown",
   "id": "f7444709-a751-4276-a6f7-a2fd88073858",
   "metadata": {},
   "source": [
    "Overall ,unsupervised anomaly detection methods are powerful tools for identifying unusual patterns or outliers in data , making them invaluable in various fields such as cybersecurity,frud detection, and quality control."
   ]
  },
  {
   "cell_type": "code",
   "execution_count": null,
   "id": "9fd6657c-4af7-481d-b5d9-5bb2be54c303",
   "metadata": {},
   "outputs": [],
   "source": []
  },
  {
   "cell_type": "markdown",
   "id": "8099c88e-5b50-4612-b658-0209b725c954",
   "metadata": {},
   "source": [
    "Q8- List down some commonly used supervised learning algorithms and unsupervised learning\n",
    "algorithms."
   ]
  },
  {
   "cell_type": "markdown",
   "id": "e2a2d7c8-6252-45f8-919d-7ab7ed379f1b",
   "metadata": {},
   "source": [
    "Ans. Here are some commonly used algorithms for both supervised and unsupervised learning :"
   ]
  },
  {
   "cell_type": "markdown",
   "id": "8a8ab821-583c-489a-897b-e66c8ee14d5c",
   "metadata": {},
   "source": [
    "Supervised learning algorithms"
   ]
  },
  {
   "cell_type": "markdown",
   "id": "490e40f5-a614-44d1-886b-7a090cf48a6d",
   "metadata": {},
   "source": [
    "(a).Linear Regression: Used for regression tasks ,predicting a continuous output variable based on input features."
   ]
  },
  {
   "cell_type": "markdown",
   "id": "23bc1033-0d85-4244-8647-310eb8bc5a9b",
   "metadata": {},
   "source": [
    "(b).Logistic Regression: Used for binary classification tasks ,predicting one of two clases."
   ]
  },
  {
   "cell_type": "markdown",
   "id": "51371902-e695-4331-915e-7ab12063af66",
   "metadata": {},
   "source": [
    "(c).Decision Trees: A versatile algorithm used for both classification and regression tasks."
   ]
  },
  {
   "cell_type": "markdown",
   "id": "f57bc104-eb45-4949-9f8c-4186e2a8c897",
   "metadata": {},
   "source": [
    "(d).Random Forest: An ensemble method that uses multiple decision trees for improved performance."
   ]
  },
  {
   "cell_type": "markdown",
   "id": "048a354c-531f-4179-a085-dbfaf20cff05",
   "metadata": {},
   "source": [
    "(e).Support Vector Machines(SVM). used for both classification and regression tasks ,particularly effective in high-dimensional spaces."
   ]
  },
  {
   "cell_type": "markdown",
   "id": "2791e7e7-dde4-4703-a29a-a344c4281851",
   "metadata": {},
   "source": [
    "Unsupervised Learning Algorithms:\n"
   ]
  },
  {
   "cell_type": "markdown",
   "id": "a2847367-505e-4bb1-aa7c-aaba40acde9c",
   "metadata": {},
   "source": [
    "(a).K-Means Clustering: Divides data into 'k'number iof clusters based on similarity."
   ]
  },
  {
   "cell_type": "markdown",
   "id": "3d5edee3-9cd3-4ce7-9084-b80db95b5926",
   "metadata": {},
   "source": [
    "(b).Hierarchial Clustering: Organizes data into a tree like structure ,allowing for different levels of granularity."
   ]
  },
  {
   "cell_type": "markdown",
   "id": "93691202-d808-45ab-949d-14fac91c6121",
   "metadata": {},
   "source": [
    "(c).PCA(Principal Component Analysis): Reduces the dimensionality of data while retaining as much information as possible."
   ]
  },
  {
   "cell_type": "markdown",
   "id": "6d1007ae-8f2b-4b77-b7b0-1b1bc29a4d27",
   "metadata": {},
   "source": [
    "(d).One-Class SVM(Support Verctor Machine):Trains on a single class to iedntify regions where most of the data lies."
   ]
  },
  {
   "cell_type": "markdown",
   "id": "bd2bac04-8721-4e3b-8e7f-a0a9a0710dcb",
   "metadata": {},
   "source": [
    "(e).self-Organizing Maps(SOM): Neural netwirks that create a low-dimentional representation of high dimentional data."
   ]
  },
  {
   "cell_type": "markdown",
   "id": "64bbd547-6f4d-4fc0-b3c1-692ea695bf6e",
   "metadata": {},
   "source": [
    "The choice of algorithm depends on the specific tasks ,the nature of the data and the desired outcome .Its often a good practice to try multiple algorithms and evaluate their perfornamnce to select the most suitable one for a given problem."
   ]
  },
  {
   "cell_type": "code",
   "execution_count": null,
   "id": "49126961-c9c5-45ca-9cea-66a894599510",
   "metadata": {},
   "outputs": [],
   "source": []
  }
 ],
 "metadata": {
  "kernelspec": {
   "display_name": "Python 3 (ipykernel)",
   "language": "python",
   "name": "python3"
  },
  "language_info": {
   "codemirror_mode": {
    "name": "ipython",
    "version": 3
   },
   "file_extension": ".py",
   "mimetype": "text/x-python",
   "name": "python",
   "nbconvert_exporter": "python",
   "pygments_lexer": "ipython3",
   "version": "3.10.8"
  }
 },
 "nbformat": 4,
 "nbformat_minor": 5
}
